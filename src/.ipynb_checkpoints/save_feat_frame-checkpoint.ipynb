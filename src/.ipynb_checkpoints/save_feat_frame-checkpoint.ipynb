{
 "cells": [
  {
   "cell_type": "code",
   "execution_count": 1,
   "id": "e9c0e908",
   "metadata": {},
   "outputs": [
    {
     "name": "stdout",
     "output_type": "stream",
     "text": [
      "******* DEFAULT FEATURES **********\n",
      "******* LENET FEATURES **********\n"
     ]
    }
   ],
   "source": [
    "import h5py\n",
    "import numpy as np\n",
    "import pickle\n",
    "\n",
    "filename = r'C:\\Users\\matti\\github\\DSNet\\datasets\\eccv16_dataset_summe_google_pool5.h5'\n",
    "\n",
    "with h5py.File(filename, \"r\") as f:\n",
    "\n",
    "\tvideo_i = \"video_1\"\n",
    "\n",
    "\tprint(\"******* DEFAULT FEATURES **********\")\n",
    "\toriginal=f[video_i][\"features\"][:3]\n",
    "\n",
    "\tprint(\"******* LENET FEATURES **********\")\n",
    "\tmine=f[video_i][\"seq_lenet\"][:3]\n",
    "\n"
   ]
  },
  {
   "cell_type": "markdown",
   "id": "beca26ae",
   "metadata": {},
   "source": [
    "### Save"
   ]
  },
  {
   "cell_type": "code",
   "execution_count": 2,
   "id": "8263f3e9",
   "metadata": {},
   "outputs": [],
   "source": [
    "file = open(\"mine.txt\", \"w\")\n",
    "for feat in mine:\n",
    "    np.savetxt(file, feat)\n",
    "file.close()"
   ]
  },
  {
   "cell_type": "code",
   "execution_count": 3,
   "id": "f8975a0f",
   "metadata": {},
   "outputs": [],
   "source": [
    "file = open(\"original.txt\", \"w\")\n",
    "for feat in original:\n",
    "    np.savetxt(file, feat)\n",
    "file.close()"
   ]
  },
  {
   "cell_type": "markdown",
   "id": "47088746",
   "metadata": {},
   "source": [
    "### Load"
   ]
  },
  {
   "cell_type": "code",
   "execution_count": 14,
   "id": "a6b69675",
   "metadata": {},
   "outputs": [
    {
     "name": "stdout",
     "output_type": "stream",
     "text": [
      "[[0.04824348 0.04978595 0.00840192 ... 0.03043105 0.04858444 0.03370279]\n",
      " [0.05256166 0.05980765 0.0072507  ... 0.02120193 0.03935884 0.03196014]\n",
      " [0.05083434 0.06407385 0.01015362 ... 0.02778372 0.04081437 0.03971195]]\n"
     ]
    }
   ],
   "source": [
    "mine_array = np.loadtxt(\"mine.txt\").reshape(3,1024)\n",
    "print(mine_array)"
   ]
  },
  {
   "cell_type": "code",
   "execution_count": 15,
   "id": "39aae481",
   "metadata": {},
   "outputs": [
    {
     "name": "stdout",
     "output_type": "stream",
     "text": [
      "[[0.00000000e+00 0.00000000e+00 3.61840939e-04 ... 1.02224345e-04\n",
      "  2.28259116e-02 0.00000000e+00]\n",
      " [0.00000000e+00 0.00000000e+00 3.40301369e-04 ... 3.51528870e-03\n",
      "  4.94062938e-02 0.00000000e+00]\n",
      " [0.00000000e+00 5.40758716e-04 2.82520137e-04 ... 4.78237853e-05\n",
      "  2.36145183e-02 0.00000000e+00]]\n"
     ]
    }
   ],
   "source": [
    "original_array = np.loadtxt(\"original.txt\").reshape(3,1024)\n",
    "print(original_array)"
   ]
  }
 ],
 "metadata": {
  "kernelspec": {
   "display_name": "Python 3",
   "language": "python",
   "name": "python3"
  },
  "language_info": {
   "codemirror_mode": {
    "name": "ipython",
    "version": 3
   },
   "file_extension": ".py",
   "mimetype": "text/x-python",
   "name": "python",
   "nbconvert_exporter": "python",
   "pygments_lexer": "ipython3",
   "version": "3.8.8"
  }
 },
 "nbformat": 4,
 "nbformat_minor": 5
}
